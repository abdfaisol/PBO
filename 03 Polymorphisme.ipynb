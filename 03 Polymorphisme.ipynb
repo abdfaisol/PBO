{
 "cells": [
  {
   "cell_type": "markdown",
   "metadata": {},
   "source": [
    "<h1 style=\"font-family: sans-serif; text-align: center\">POLYMORPHISME</h1>"
   ]
  },
  {
   "cell_type": "markdown",
   "metadata": {},
   "source": [
    "Polymorphisme adalah Metode untuk menampilkan banyak output yang datang dari object yang berbagai tipe atau form dalam satu perintah.<br>\n",
    "Contoh: <br>\n",
    "Sebuah sekumpulan object terdiri dari anjing, kucing, beruang, dan jangkrik. Lalu kita memberikan perintah bersuara maka keempat object tersebut akan bersuara berbeda - beda dengan bersamaan."
   ]
  },
  {
   "attachments": {},
   "cell_type": "markdown",
   "metadata": {},
   "source": [
    "<img src=\"https://i.imgur.com/d7hmcpJ.png\" alt=\"DOG\" style=\"max-height: 70%; max-width: 70%;\"> <br>\n",
    "<p style=\"text-align: center\">Gambar 1: Suara Animal"
   ]
  },
  {
   "cell_type": "markdown",
   "metadata": {},
   "source": [
    "Kadang kala sebuah objek datang dari berbagai tipe atau form. Jika kita punya sebuah tombol yang dapat menampilkan banyak output yang berbeda - beda. Kita bisa melakukan itu dengan logika onClick(). Kita bisa mengakses mereka dengan method yang sama. Itulah yang disebut Polymorphism. Poly(Many) dan Morphism (Forms) kita dapat membuat sebuah struktur yang dapat mengambil atau menggunakan form dari berbagai objek."
   ]
  },
  {
   "cell_type": "markdown",
   "metadata": {},
   "source": [
    "Metode Polymorphism ada 2 yaitu Polymorphisme dengan function dan class method."
   ]
  },
  {
   "cell_type": "markdown",
   "metadata": {},
   "source": [
    "### Polymorphism dengan Function"
   ]
  },
  {
   "cell_type": "markdown",
   "metadata": {},
   "source": [
    "Polymorphism dengan function adalah sebuah fungsi yang dapat mengambil objek apapun."
   ]
  },
  {
   "cell_type": "code",
   "execution_count": 2,
   "metadata": {},
   "outputs": [
    {
     "name": "stdout",
     "output_type": "stream",
     "text": [
      "Groarrrr\n",
      "Woofff \n",
      "Groarrrr\n"
     ]
    }
   ],
   "source": [
    "#Membuat class beruang dan anjing yang menampilkan suara mereka.\n",
    "class beruang:\n",
    "    def bunyi(self):\n",
    "        print(\"Groarrrr\")\n",
    "\n",
    "class anjing:\n",
    "    def bunyi(self):\n",
    "        print(\"Woofff \")\n",
    "        \n",
    "#Function yang digunakan untuk memanggil objek.\n",
    "def ayo (binatang):\n",
    "    binatang.bunyi()\n",
    "\n",
    "herry = beruang()\n",
    "pluto = anjing()\n",
    "\n",
    "ayo(herry)\n",
    "ayo(pluto)\n",
    "beruang().bunyi()"
   ]
  },
  {
   "cell_type": "markdown",
   "metadata": {},
   "source": [
    "Keterangan: <br><br>\n",
    "<span style=\"background-color:gray; color: white; padding: 5px 10px; border-radius: 10px\">class <i>beruang</i>:</span> Class beruang yang didalamnya terdapat method untuk menampilkan suara beruang. <br><br>\n",
    "\n",
    "<span style=\"background-color:gray; color: white; padding: 5px 10px; border-radius: 10px\">class <i>anjing</i>:</span> Class anjing yang didalamnya terdapat method untuk menampilkan suara anjing. <br><br>\n",
    "\n",
    "\n",
    "<span style=\"background-color:mediumseagreen; color: white; padding: 5px 10px; border-radius: 10px\">def ayo (<i> binatang</i> )</span> sebuah function yang digunakan untuk mengakses method bunyi dari object. <br> <br>\n",
    "\n",
    "<span style=\"background-color:dodgerblue; color: white; padding: 5px 10px; border-radius: 10px\">herry = beruang() </span>  sebuah object yang bernilai class beruang() <br> <br>\n",
    "\n",
    "<span style=\"background-color:dodgerblue; color: white; padding: 5px 10px; border-radius: 10px\">pluto = anjing()</span> sebuah object yang bernilai class anjing() <br> <br>\n",
    "\n",
    "Ketika sebuah object dimasukkan ke dalam function ayo(object) maka akan menghasilkan object.bunyi(). Jika dijabarkan akan menjadi  <br> <br> ayo(herry) > herry.bunyi() > beruang().bunyi() > print(\"Groarrr\")"
   ]
  },
  {
   "cell_type": "markdown",
   "metadata": {},
   "source": [
    "### Polymorphism dengan Class Method"
   ]
  },
  {
   "cell_type": "markdown",
   "metadata": {},
   "source": [
    "Polymorphism dengan class method adalah metode untuk memanggil output dari banyak objek dengan menggunakan for (looping)."
   ]
  },
  {
   "cell_type": "code",
   "execution_count": 5,
   "metadata": {},
   "outputs": [
    {
     "name": "stdout",
     "output_type": "stream",
     "text": [
      "the fish is swimming.\n",
      "The shark cannot swim backwards, but can sink backwards\n",
      "The shark's skeleton is made of cartilage\n",
      "\n",
      "the fish is swimming.\n",
      "The shark cannot swim backwards, but can sink backwards\n",
      "The clownfish is made of bone\n",
      "\n"
     ]
    }
   ],
   "source": [
    "class clownfish():\n",
    "    def swim(self):\n",
    "        print(\"the fish is swimming.\")\n",
    "    def swim_backwards(self):\n",
    "        print(\"The shark cannot swim backwards, but can sink backwards\")\n",
    "    def skeleton(self):\n",
    "        print(\"The clownfish is made of bone\")\n",
    "\n",
    "class shark():\n",
    "    def swim(self):\n",
    "        print(\"the fish is swimming.\")\n",
    "    def swim_backwards(self):\n",
    "        print(\"The shark cannot swim backwards, but can sink backwards\")\n",
    "    def skeleton(self):\n",
    "        print(\"The shark's skeleton is made of cartilage\")\n",
    "              \n",
    "sammy = shark()\n",
    "cassey = clownfish()\n",
    "\n",
    "for fish in (sammy, cassey):\n",
    "    fish.swim()\n",
    "    fish.swim_backwards()\n",
    "    fish.skeleton()\n",
    "    print()"
   ]
  },
  {
   "cell_type": "markdown",
   "metadata": {},
   "source": [
    "Keterangan:<br>\n",
    "Menggunakan for untuk memanggil methods swim, swim_backwards, dan skeleton dari berbagai object. Jika dijabarkan akan menjadi sebagai berikut. <br>\n",
    "\n",
    "    sammy = shark()\n",
    "    cassey= clownfish()\n",
    "\n",
    "    for fish in (sammy, cassey):\n",
    "        fish.swim()\n",
    "        fish.swim_backwards()\n",
    "        fish.skeleton()\n",
    "        print()\n",
    "        \n",
    "Loop pertama: <br>\n",
    "\n",
    "    sammy.swim()\n",
    "    sammy.swim_backwards()\n",
    "    sammy.skeleton()\n",
    "    print()\n",
    "    \n",
    "    menjadi\n",
    "\n",
    "    shark().swim()\n",
    "    shark().swim_backwards()\n",
    "    shark().skeleton()\n",
    "    print()\n",
    "    \n",
    "    Output:\n",
    "    \n",
    "    the fish is swimming.\n",
    "    The shark cannot swim backwards, but can sink backwards\n",
    "    The shark's skeleton is made of cartilage\n",
    "\n",
    "Loop kedua: <br>\n",
    "\n",
    "    cassey.swim()\n",
    "    cassey.swim_backwards()\n",
    "    cassey.skeleton()\n",
    "    print()\n",
    "    \n",
    "    menjadi\n",
    "\n",
    "    clownfish().swim()\n",
    "    clownfish().swim_backwards()\n",
    "    clownfish().skeleton()\n",
    "    print()\n",
    "    \n",
    "    Output:\n",
    "    \n",
    "    the fish is swimming.\n",
    "    The shark cannot swim backwards, but can sink backwards\n",
    "    The clownfish is made of bone\n",
    "\n",
    "    \n",
    "Hasil Output dari semua looping:\n",
    "    \n",
    "    the fish is swimming.\n",
    "    The shark cannot swim backwards, but can sink backwards\n",
    "    The shark's skeleton is made of cartilage\n",
    "    \n",
    "    the fish is swimming.\n",
    "    The shark cannot swim backwards, but can sink backwards\n",
    "    The clownfish is made of bone\n",
    "    "
   ]
  },
  {
   "cell_type": "markdown",
   "metadata": {},
   "source": [
    "Cara di atas berpatokan dengan membuat objek satu per satu lalu di eksekusi di dalam for. Namun, terdapat cara lain yaitu dengan menggunakan list."
   ]
  },
  {
   "cell_type": "code",
   "execution_count": 6,
   "metadata": {},
   "outputs": [
    {
     "name": "stdout",
     "output_type": "stream",
     "text": [
      "document1  :  Show pdf contents\n",
      "document2  :  Show pdf contents\n",
      "document3  :  Show word contents\n"
     ]
    }
   ],
   "source": [
    "class document:\n",
    "    def __init__(self, nama):\n",
    "        self.nama = nama\n",
    "    def show (self):\n",
    "        raise NotImplementedError(\"Subclass must implement abstract method\")\n",
    "class pdf(document):\n",
    "    def show(self):\n",
    "        return \"Show pdf contents\"\n",
    "class word(document):\n",
    "    def show(self):\n",
    "        return \"Show word contents\"\n",
    "documents = [pdf('document1'),pdf('document2'),word('document3')]\n",
    "\n",
    "for document in documents:\n",
    "    print(document.nama,\" : \",document.show())"
   ]
  },
  {
   "cell_type": "markdown",
   "metadata": {},
   "source": [
    "Keterangan: <br>\n",
    "__NotImplementedError__ adalah Abstract class. Class yang methodnya abstrak berarti tidak punya apapun untuk diimplementasikan namun didefinisikan menjadi sebuah struktur. Jika kita mendefinisikan function show() sebagai abstrak. Lalu kedua class pdf Document dan word Document harus mempunyai function show() yang memiliki nilai. <br>\n",
    "\n",
    "apabila sebuah variabel bernilai list. Kemudian digunakan di dalam for sebagai parameter. maka outputnya berupa list tersebut satu persatu.<br>\n",
    "\n",
    "    list = [1,2,3]\n",
    "    for i in list:\n",
    "        print(i)\n",
    "Loop pertama: 1 <br>\n",
    "Loop kedua : 2 <br>\n",
    "Loop ketiga : 3 <br>\n",
    "Maka, outputnya ialah <br>\n",
    "\n",
    "    1\n",
    "    2\n",
    "    3\n",
    "\n",
    "Sebuah objek <span style=\"background-color:dodgerblue; color: white; padding: 5px 10px; border-radius: 10px\">document : [pdf('document1'),pdf('document2'),word('document3')]</span> akan diseksekusi melalui loop for.<br>\n",
    "\n",
    "    for document in documents:\n",
    "        print(document.nama,\" : \",document.show())\n",
    "Loop pertama: <br>\n",
    "\n",
    "        print(pdf('document1').nama\" : \", pdf('document1').show())\n",
    "        \n",
    "        output: document1  :  Show pdf contents\n",
    "        \n",
    "Loop kedua: <br>\n",
    "\n",
    "        print(pdf('document2').nama\" : \", pdf('document2').show())\n",
    "        \n",
    "        output: document2  :  Show pdf contents\n",
    "        \n",
    "Loop ketiga: <br>\n",
    "\n",
    "        print(word('document3').nama\" : \", word('document3').show())\n",
    "        \n",
    "        output: document3  :  Show pdf contents\n",
    "        \n",
    "output:<br>\n",
    "\n",
    "    document1  :  Show pdf contents\n",
    "    document2  :  Show pdf contents\n",
    "    document3  :  Show word contents"
   ]
  },
  {
   "cell_type": "code",
   "execution_count": 9,
   "metadata": {},
   "outputs": [
    {
     "name": "stdout",
     "output_type": "stream",
     "text": [
      "Sopir Truck  :  Truck driving slowly because heavily loaded  and  Truck braking!\n",
      "Sopir mabuk  :  Truck driving slowly because heavily loaded  and  Truck braking!\n",
      "Pembalap gila  :  Sportscar driving  and  Sportscar braking!\n"
     ]
    }
   ],
   "source": [
    "class car:\n",
    "    def __init__(self,nama):\n",
    "        self.nama = nama\n",
    "        \n",
    "        #Method drive dan stop adalah abstrak\n",
    "    def drive (self):\n",
    "        raise NotImplementedError(\"Subclass must implement abstract method\")\n",
    "    def stop(self):\n",
    "        raise NotImplementedError(\"Subclass must implement abstract method\")\n",
    "        \n",
    "class sportscar(car):\n",
    "    \n",
    "    #Method drive dan stop memiliki nilai yaitu \"Sportscar driving\" dan \"Sportscar braking!\"\n",
    "    def drive(self):\n",
    "        return \"Sportscar driving\"\n",
    "    def stop(self):\n",
    "        return \"Sportscar braking!\"\n",
    "    \n",
    "class truck(car):\n",
    "    \n",
    "    #Method drive dan stop memiliki nilai yaitu \"Truck driving slowly because heavily loaded\" dan \"Truck braking!\"\n",
    "    def drive(self):\n",
    "        return \"Truck driving slowly because heavily loaded\"\n",
    "    def stop(self):\n",
    "        return \"Truck braking!\"\n",
    "    \n",
    "    \n",
    "mobils = [truck(\"Sopir Truck\"),truck(\"Sopir mabuk\"),sportscar(\"Pembalap gila\")]\n",
    "\n",
    "for mobil in mobils:\n",
    "    print(mobil.nama,\" : \",mobil.drive(),\" and \",mobil.stop())"
   ]
  },
  {
   "cell_type": "markdown",
   "metadata": {},
   "source": [
    "Keterangan: <br>\n",
    "Sebuah objek <span style=\"background-color:dodgerblue; color: white; padding: 5px 10px; border-radius: 10px\">mobils = [truck(\"Sopir Truck\"),truck(\"Sopir mabuk\"),sportscar(\"Pembalap gila\")]</span> akan diseksekusi melalui loop for.<br>\n",
    "\n",
    "    for mobil in mobils:\n",
    "        print(mobil.nama,\" : \",mobil.drive(),\" and \",mobil.stop())\n",
    "Loop pertama: <br>\n",
    "\n",
    "        print(truck(\"Sopir Truck\").nama,\" : \",truck(\"Sopir Truck\").drive(),\" and \",truck(\"Sopir Truck\").stop())\n",
    "        \n",
    "        output: Sopir Truck  :  Truck driving slowly because heavily loaded  and  Truck braking!\n",
    "        \n",
    "Loop kedua: <br>\n",
    "\n",
    "        print(truck(\"Sopir mabuk\").nama,\" : \",truck(\"Sopir mabuk\").drive(),\" and \",truck(\"Sopir mabuk\").stop())\n",
    "        \n",
    "        output: document2  :  Sopir mabuk  :  Truck driving slowly because heavily loaded  and  Truck braking!\n",
    "        \n",
    "Loop ketiga: <br>\n",
    "\n",
    "        print(sportscar(\"Pembalap gila\").nama,\" : \",sportscar(\"Pembalap gila\").drive(),\" and \",sportscar(\"Pembalap gila\").stop())\n",
    "        \n",
    "        output: Pembalap gila  :  Sportscar driving  and  Sportscar braking!\n",
    "        \n",
    "output:<br>\n",
    "\n",
    "    Sopir Truck  :  Truck driving slowly because heavily loaded  and  Truck braking!\n",
    "    Sopir mabuk  :  Truck driving slowly because heavily loaded  and  Truck braking!\n",
    "    Pembalap gila  :  Sportscar driving  and  Sportscar braking!"
   ]
  },
  {
   "cell_type": "code",
   "execution_count": null,
   "metadata": {},
   "outputs": [],
   "source": []
  }
 ],
 "metadata": {
  "kernelspec": {
   "display_name": "Python 3",
   "language": "python",
   "name": "python3"
  },
  "language_info": {
   "codemirror_mode": {
    "name": "ipython",
    "version": 3
   },
   "file_extension": ".py",
   "mimetype": "text/x-python",
   "name": "python",
   "nbconvert_exporter": "python",
   "pygments_lexer": "ipython3",
   "version": "3.7.1"
  }
 },
 "nbformat": 4,
 "nbformat_minor": 2
}
