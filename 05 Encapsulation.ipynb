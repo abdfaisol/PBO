{
 "cells": [
  {
   "cell_type": "markdown",
   "metadata": {},
   "source": [
    "#### Nama : Abdullah Faisol\n",
    "#### NIM : 180441100055\n",
    "#### Matkul : PBO - A"
   ]
  },
  {
   "cell_type": "markdown",
   "metadata": {},
   "source": [
    "## Encapsulation"
   ]
  },
  {
   "cell_type": "markdown",
   "metadata": {},
   "source": [
    "Encapsulation adalah Pemaketan data bersama metode – metodenya dimana hal ini bermanfaat untuk menyembunyikan rincian - rincian implementasi dari pemakai. Dalam sebuah objek yang mengandung variabel dan method, dapat ditentukan hak akses pada sebuah variabel atau method dari objek. <br><br>\n",
    "Membungkus class dan menjaga isi yang didalam class tersebut, baik method atau atribut, agar tidak dapat diakses oleh class lainnya. Untuk menjaga hal tersebut dalam Ecapsulation dikenal nama Hak Akses Modifier yang terdiri dari: <br><br>\n",
    "Private = Memberikan hak akses hanya pada class itu sendiri, artinya method atau atribut yang ada di dalam class A hanya bisa diakses oleh class A.<br><br>\n",
    "Public = Memberikan hak akses kepada atribut atau method dapat diakses oleh class lain.<br><br>\n"
   ]
  },
  {
   "cell_type": "markdown",
   "metadata": {},
   "source": [
    "<img src=\"https://imgur.com/blRZBCE.png\" alt=\"ilustrasi Sub and Parent Class\" style=\"max-height: 70%; max-width: 70%;\">"
   ]
  },
  {
   "cell_type": "code",
   "execution_count": 3,
   "metadata": {},
   "outputs": [
    {
     "name": "stdout",
     "output_type": "stream",
     "text": [
      "123\n",
      "123\n"
     ]
    },
    {
     "ename": "AttributeError",
     "evalue": "'Robot' object has no attribute '__c'",
     "output_type": "error",
     "traceback": [
      "\u001b[1;31m---------------------------------------------------------------------------\u001b[0m",
      "\u001b[1;31mAttributeError\u001b[0m                            Traceback (most recent call last)",
      "\u001b[1;32m<ipython-input-3-756d98b9bb2a>\u001b[0m in \u001b[0;36m<module>\u001b[1;34m\u001b[0m\n\u001b[0;32m      7\u001b[0m \u001b[0mprint\u001b[0m\u001b[1;33m(\u001b[0m\u001b[0mobj\u001b[0m\u001b[1;33m.\u001b[0m\u001b[0ma\u001b[0m\u001b[1;33m)\u001b[0m\u001b[1;33m\u001b[0m\u001b[1;33m\u001b[0m\u001b[0m\n\u001b[0;32m      8\u001b[0m \u001b[0mprint\u001b[0m\u001b[1;33m(\u001b[0m\u001b[0mobj\u001b[0m\u001b[1;33m.\u001b[0m\u001b[0m_b\u001b[0m\u001b[1;33m)\u001b[0m\u001b[1;33m\u001b[0m\u001b[1;33m\u001b[0m\u001b[0m\n\u001b[1;32m----> 9\u001b[1;33m \u001b[0mprint\u001b[0m\u001b[1;33m(\u001b[0m\u001b[0mobj\u001b[0m\u001b[1;33m.\u001b[0m\u001b[0m__c\u001b[0m\u001b[1;33m)\u001b[0m\u001b[1;33m\u001b[0m\u001b[1;33m\u001b[0m\u001b[0m\n\u001b[0m",
      "\u001b[1;31mAttributeError\u001b[0m: 'Robot' object has no attribute '__c'"
     ]
    }
   ],
   "source": [
    "class Robot(object):\n",
    "   def __init__(self):\n",
    "      self.a = 123\n",
    "      self._b = 123\n",
    "      self.__c = 123\n",
    "obj = Robot()\n",
    "print(obj.a)\n",
    "print(obj._b)\n",
    "print(obj.__c)\n"
   ]
  },
  {
   "cell_type": "markdown",
   "metadata": {},
   "source": [
    "Script tersebut mempunyai 2 buah variabel yang memiliki hak akses private yaitu self._b dan self.__ c. sedangkan self.a bersifat public. Method atau Variabel yang ditulis diawali underscore yang berarti method atau variabel tersebut bersifat private sedangkan Method atau Veriabel yang diawal double underscore bersifat sangat private yang membutuhkan usaha keras untuk mengaksesnya.\n",
    "<br><br>\n",
    "Output dari script tersebut akan menghasilkan 123 dan 123 lalu error. Karena cara mengakses variabel yang bersifat sangat privasi berbeda dengan yang private dan public.\n",
    "\n"
   ]
  },
  {
   "cell_type": "code",
   "execution_count": 7,
   "metadata": {},
   "outputs": [
    {
     "name": "stdout",
     "output_type": "stream",
     "text": [
      "Informasi publik\n",
      "Informasi bersifat privasi\n",
      "Informasi yang sangat rahasia\n"
     ]
    }
   ],
   "source": [
    "class A:\n",
    "    # public method\n",
    "    def publik(self):\n",
    "        return \"Informasi publik\"\n",
    "    # method privasi dengan single _underscore\n",
    "    def _privasi(self):\n",
    "        return \"Informasi bersifat privasi\"\n",
    "    # privasi dengan double__underscore\n",
    "    def __privasiku(self):\n",
    "        return \"Informasi yang sangat rahasia\"\n",
    "obj = A()\n",
    "#Kita bisa mengakses method publik\n",
    "print(obj.publik())   #Output : Informasi Publik\n",
    "# Catatan kita bisa mengakses mthod privasi dari luar\n",
    "print(obj._privasi()) #Output : Informasi bersifat privasi\n",
    "# Ketika, kamu masil memanggil method double underscore. Sertakan _class name sebelum nama method\n",
    "print(obj._A__privasiku()) #Output:Informasi yang sangat rahasia\n"
   ]
  },
  {
   "cell_type": "markdown",
   "metadata": {},
   "source": [
    "Nah untuk mengakses method yang bersifat sangat privasi atau double underscore. Sertakan _nama class lalu __ method anda. "
   ]
  },
  {
   "cell_type": "code",
   "execution_count": 8,
   "metadata": {},
   "outputs": [
    {
     "name": "stdout",
     "output_type": "stream",
     "text": [
      "22\n",
      "23\n",
      "23\n"
     ]
    }
   ],
   "source": [
    "class Robot(object):\n",
    "   def __init__(self):\n",
    "      self.__version = 22\n",
    "   def getVersion(self):\n",
    "      print(self.__version)\n",
    "   def setVersion(self, version):\n",
    "      self.__version = version\n",
    "obj = Robot()\n",
    "obj.getVersion()\n",
    "obj.setVersion(23)\n",
    "obj.getVersion()\n",
    "print(obj._Robot__version)\n"
   ]
  },
  {
   "cell_type": "markdown",
   "metadata": {},
   "source": [
    "Pada script diatas kita akan mencoba untuk menganti nilai dari variabel double underscore version. Kita memanggil getVersion() untuk mengetahui nilai dari__ version dan kita akan mengubahnya dengan membuat method setVersion(self,version).\n",
    "<br><br>\n",
    "Pada baris kedua setelah obj kita ingin mengetahui versi dari robot saat ini yaitu 22. Kemudian dibaris selanjutnya kita ingin mengubah versi robot dengan 23. Untuk mengubah versi tersebut kita tinggal memberi variabel di dalam setVersion() yang kemudian variabel tersebut akan masuk ke version dan dimasukkan ke self.__ version. Baris selanjutnya kita mengcek versi robot yang seharusnya versi 23.\n",
    "<br><br><br><br>\n",
    "Mengubah nilai variabel tanpa membuat sebuah method baru.\n"
   ]
  },
  {
   "cell_type": "code",
   "execution_count": 9,
   "metadata": {},
   "outputs": [
    {
     "name": "stdout",
     "output_type": "stream",
     "text": [
      "driving. maxspeed  200\n",
      "driving. maxspeed  0\n"
     ]
    }
   ],
   "source": [
    "class Car:\n",
    "    __maxspeed = 0\n",
    "    __name = \"\"\n",
    "    def __init__(self):\n",
    "        self.__maxspeed = 200\n",
    "        self.__name = \"Supercar\"\n",
    "    def drive(self):\n",
    "        print('driving. maxspeed ',self.__maxspeed)\n",
    "redcar = Car()\n",
    "redcar.drive()\n",
    "redcar._Car__maxspeed = 0\n",
    "redcar.drive()\n",
    "\t\n"
   ]
  },
  {
   "cell_type": "markdown",
   "metadata": {},
   "source": [
    "Sebuah mobil Supercar dengan maxspeed mencapai 200 yang digambarkan dari sebuah class car. Untuk mengakses variabel atau method yang double underscore atau sangat privasi kita hanya menambahkannya _nama class dan__nama method atau variabel.\n",
    "\t\n",
    "<br><br>\n",
    "Sebuah objek redcar memiliki nilai Class Car(). Pada baris selanjutnya kita ingin mengetahui kecepatan maximum dari Supercar adalah 200. Di baris selanjutnya kecepatan maksimum dari supercar diubah menjadi nol dengan mengubah variabel __ maxspeed. Untuk mengetesnya kita memanggil redcar.drive untuk mengetahui kecepatan maksimal dari supercar yang telah kita ubah menjadi nol.\n"
   ]
  },
  {
   "cell_type": "code",
   "execution_count": null,
   "metadata": {},
   "outputs": [],
   "source": []
  }
 ],
 "metadata": {
  "kernelspec": {
   "display_name": "Python 3",
   "language": "python",
   "name": "python3"
  },
  "language_info": {
   "codemirror_mode": {
    "name": "ipython",
    "version": 3
   },
   "file_extension": ".py",
   "mimetype": "text/x-python",
   "name": "python",
   "nbconvert_exporter": "python",
   "pygments_lexer": "ipython3",
   "version": "3.7.1"
  }
 },
 "nbformat": 4,
 "nbformat_minor": 2
}
