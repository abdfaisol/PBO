{
 "cells": [
  {
   "cell_type": "markdown",
   "metadata": {},
   "source": [
    "#### Nama : Abdullah Faisol\n",
    "#### NIM : 180441100055\n",
    "#### Matkul : PBO - A"
   ]
  },
  {
   "cell_type": "markdown",
   "metadata": {},
   "source": [
    "## Operator dan Method Overloading"
   ]
  },
  {
   "cell_type": "markdown",
   "metadata": {},
   "source": [
    "Bahasa pemograman yang paling populer hingga saat ini ialah Pyhton. Hampir seluruh programmer menggunakan bahasa python untuk mendevelop sesuatu. Hal yang membuat python digemari dan terkenal ialah python adalah bahasa pemograman yang open source. Apabila terdapat sebuah bug atau kesalahan di Python, programmer tersebut atau pengguna dapat melakukan perbaikan. <br> <br>\n",
    "Overloading adalah suatu metode yang dimana sebuah class dapat memiliki 2 atau lebih method dengan nama yang sama, yang membedakannya ialah parameternya.\n"
   ]
  },
  {
   "cell_type": "markdown",
   "metadata": {},
   "source": [
    "Perhatikan script dibawah ini:"
   ]
  },
  {
   "cell_type": "code",
   "execution_count": 1,
   "metadata": {},
   "outputs": [
    {
     "ename": "TypeError",
     "evalue": "product() missing 1 required positional argument: 'c'",
     "output_type": "error",
     "traceback": [
      "\u001b[1;31m---------------------------------------------------------------------------\u001b[0m",
      "\u001b[1;31mTypeError\u001b[0m                                 Traceback (most recent call last)",
      "\u001b[1;32m<ipython-input-1-d57be7ceeb9c>\u001b[0m in \u001b[0;36m<module>\u001b[1;34m\u001b[0m\n\u001b[0;32m      5\u001b[0m     \u001b[0mp\u001b[0m \u001b[1;33m=\u001b[0m \u001b[0ma\u001b[0m \u001b[1;33m*\u001b[0m \u001b[0mb\u001b[0m\u001b[1;33m*\u001b[0m\u001b[0mc\u001b[0m\u001b[1;33m\u001b[0m\u001b[1;33m\u001b[0m\u001b[0m\n\u001b[0;32m      6\u001b[0m     \u001b[0mprint\u001b[0m\u001b[1;33m(\u001b[0m\u001b[0mp\u001b[0m\u001b[1;33m)\u001b[0m\u001b[1;33m\u001b[0m\u001b[1;33m\u001b[0m\u001b[0m\n\u001b[1;32m----> 7\u001b[1;33m \u001b[0mproduct\u001b[0m\u001b[1;33m(\u001b[0m\u001b[1;36m4\u001b[0m\u001b[1;33m,\u001b[0m \u001b[1;36m5\u001b[0m\u001b[1;33m)\u001b[0m\u001b[1;33m\u001b[0m\u001b[1;33m\u001b[0m\u001b[0m\n\u001b[0m\u001b[0;32m      8\u001b[0m \u001b[0mproduct\u001b[0m\u001b[1;33m(\u001b[0m\u001b[1;36m4\u001b[0m\u001b[1;33m,\u001b[0m \u001b[1;36m5\u001b[0m\u001b[1;33m,\u001b[0m \u001b[1;36m5\u001b[0m\u001b[1;33m)\u001b[0m\u001b[1;33m\u001b[0m\u001b[1;33m\u001b[0m\u001b[0m\n",
      "\u001b[1;31mTypeError\u001b[0m: product() missing 1 required positional argument: 'c'"
     ]
    }
   ],
   "source": [
    "def product(a, b):\n",
    "    p = a * b\n",
    "    print(p)\n",
    "def product(a, b, c):\n",
    "    p = a * b*c\n",
    "    print(p)\n",
    "product(4, 5)\n",
    "product(4, 5, 5)"
   ]
  },
  {
   "cell_type": "markdown",
   "metadata": {},
   "source": [
    "  Python adalah bahasa pemograman yang dinamis. Ia membaca sebuah struktur kode dari atas ke bawah. Apabila di dalam sebuah script memiliki function yang sama dengan nilai yang berbeda maka function yang paling akhirlah yang akan dipakai bukan yang pertama.\n",
    "<br><br>\n",
    "    Pada contoh 1.1 terdapat sebuah function yang sama dengan nilai yang berbeda. Python akan memanganggap function pertama telah diubah secara langsung oleh user melalui function kedua. Secara logika seperti a bernilai b lalu dibaris selanjutnya a bernilai c maka diakhir Python membacanya a bernilai c bukan b.\n",
    "<br><br>\n",
    "    Adapula dua object yang telah memakai function dengan jumlah argument yang berbeda. Object pertama memiliki 2 argument yang berarti user ingin mengakses function pertama sedangkan object kedua memiliki 3 argument berarti user ingin mengakses function kedua. Object pertama akan terjadi error karena function pertama pada awalnya memang memiliki properti 2 buah namun sekarang function tersebut memiliki properti 3 buah. Output dari script tersebut ialah error. Karena jika baris pertama terjadi error maka python tidak ingin membaca baris selanjutnya.\n"
   ]
  },
  {
   "cell_type": "markdown",
   "metadata": {},
   "source": [
    "Script di bawah ini akan membenarkan contoh diatas yang menghasilkan output bukan error."
   ]
  },
  {
   "cell_type": "code",
   "execution_count": 2,
   "metadata": {},
   "outputs": [
    {
     "name": "stdout",
     "output_type": "stream",
     "text": [
      "10\n"
     ]
    }
   ],
   "source": [
    "def add(a,b):\n",
    "    return a+b\n",
    "def add(a,b,c):\n",
    "    return a+b+c\n",
    "print(add(2,3,5))"
   ]
  },
  {
   "cell_type": "markdown",
   "metadata": {},
   "source": [
    "Script kedua dan script pertama memiliki persamaan yaitu memiliki function yang sama. Perbedaannya ialah object pertamannya tidak memakai function pertama melainkan function kedua. <br> <br>\n",
    "       \n",
    "       Outputnya ialah 2 + 3 + 5 = 10\n"
   ]
  },
  {
   "cell_type": "markdown",
   "metadata": {},
   "source": [
    "### Penggunaan Method Overloading"
   ]
  },
  {
   "cell_type": "markdown",
   "metadata": {},
   "source": [
    "Beberapa cara untuk memanggil sebuah method (method overloading). Didalam pyhton kamu dapat mendefinisikan sebuah method sedemikian rupa didalamnya ada banyak cara untuk memanggil itu. <br><br>\n",
    "\tDiberikan sebuah method atau function, kita bisa menentukan jumlah angka itu sendiri. Tergantung kepada definisi function tersebut, dapat dipanggil dengan parameter nol, satu, dua atau lebih. Itulah method overloading. Tidak semua bahasa pemograman dapat mendukung method overloading, tapi python dapat melakukannya.\n"
   ]
  },
  {
   "cell_type": "markdown",
   "metadata": {},
   "source": [
    "Perhatikan contoh dibawah ini."
   ]
  },
  {
   "cell_type": "code",
   "execution_count": 11,
   "metadata": {},
   "outputs": [
    {
     "name": "stdout",
     "output_type": "stream",
     "text": [
      "Assalammualikum\n",
      "Assalammualikum Budi\n"
     ]
    }
   ],
   "source": [
    "class Orang:\n",
    "    def saySalam(self, nama = None):\n",
    "        if nama is not None:\n",
    "            print('Assalammualikum ' + nama)\n",
    "        else:\n",
    "            print('Assalammualikum')\n",
    "obj = Orang()\n",
    "obj.saySalam()\n",
    "obj.saySalam('Budi')\n"
   ]
  },
  {
   "cell_type": "markdown",
   "metadata": {},
   "source": [
    "Pada script diatas terdapat sebuah class yang didalamnya ada method yang memiliki parameter nama dengan nilai None. Didalam method kita ingin mengucapkan salam apabila kita mengetahui namanya maka akan menghasilkan output salam dan nama. Jika tidak mengetahui namanya, maka cukup salam. <br><br>\n",
    "Sebuah objek (obj) memiliki nilai class orang. Pada baris selanjutnya kita ingin memanggil method saySalam() dengan parameter None / 0 dengan output hanya mengucapkan salam. Selanjutnya kita memanggil method saySalam() dengan mengisi parameter dengan sebuah nama Budi. Maka outputnya ialah Salam dan Budi.\n"
   ]
  },
  {
   "cell_type": "code",
   "execution_count": 12,
   "metadata": {},
   "outputs": [
    {
     "name": "stdout",
     "output_type": "stream",
     "text": [
      "Satu Dua Tiga \n"
     ]
    }
   ],
   "source": [
    "def add(*args):\n",
    "    answer = \"\"\n",
    "    for x in args:\n",
    "        answer = answer + x + \" \"\n",
    "    print(answer)\n",
    "\n",
    "add('Satu', 'Dua', 'Tiga')\n"
   ]
  },
  {
   "cell_type": "markdown",
   "metadata": {},
   "source": [
    "Pada script diatas terdapat sebuah code bernama __*args__. __*args__ berfungsi untuk membaca argumen seperti membaca sebuah list. Apabila kita ingin membaca beberapa argument di dalam function kita tidak perlu mendeklerasikan terlebih dahulu. Cukup dengan mendeklerasikan __*args__ kemudian memakai __args__.  Akan nampak alurnya seperti di bawah ini."
   ]
  },
  {
   "cell_type": "code",
   "execution_count": 13,
   "metadata": {},
   "outputs": [
    {
     "name": "stdout",
     "output_type": "stream",
     "text": [
      " Satu Dua Tiga \n"
     ]
    }
   ],
   "source": [
    "args = [\"Satu\", \"Dua\",\"Tiga\"]\n",
    "answer = \" \"\n",
    "for i in args:\n",
    "    answer = answer + i + \" \"\n",
    "print(answer)"
   ]
  },
  {
   "cell_type": "markdown",
   "metadata": {},
   "source": [
    "### Operator Overloading"
   ]
  },
  {
   "cell_type": "markdown",
   "metadata": {},
   "source": [
    "Apabila kita mempunyai dua buah objek dengan nilai yang berbeda lalu kita ingin menambahkannya. Maka kita dapat menggunakan operator + untuk menambahkan kedua object. Operator + digunakan untuk menambahkan dua buah int atau str, apabila salah satunya tidak sama tipe datanya maka error.<br><br>\n",
    "\tOperator Overloading memungkinkan kita untuk melakukan aksi seperti penambahan dengan object lain yang memiliki class yang sama namun argumentnya berbeda. <br><br>\n",
    "\n",
    "Macam – macam Operator Overloading\n"
   ]
  },
  {
   "cell_type": "markdown",
   "metadata": {},
   "source": [
    "<img src=\"https://imgur.com/1iRGoTS.png\" alt=\"ilustrasi Sub and Parent Class\" style=\"max-height: 70%; max-width: 70%;\">"
   ]
  },
  {
   "cell_type": "markdown",
   "metadata": {},
   "source": [
    "<img src=\"https://imgur.com/2H41gsu.png\" alt=\"ilustrasi Sub and Parent Class\" style=\"max-height: 70%; max-width: 70%;\">"
   ]
  },
  {
   "cell_type": "markdown",
   "metadata": {},
   "source": [
    "<img src=\"https://imgur.com/OK7DmUO.png\" alt=\"ilustrasi Sub and Parent Class\" style=\"max-height: 70%; max-width: 70%;\">"
   ]
  },
  {
   "cell_type": "markdown",
   "metadata": {},
   "source": [
    "Perhatikan contoh  di bawah ini:"
   ]
  },
  {
   "cell_type": "code",
   "execution_count": 14,
   "metadata": {},
   "outputs": [
    {
     "name": "stdout",
     "output_type": "stream",
     "text": [
      "Point object is at: (3, 1)\n"
     ]
    }
   ],
   "source": [
    "class Point:\n",
    "    def __init__(self, x = 0, y = 0):\n",
    "        self.x = x\n",
    "        self.y = y\n",
    "    def __str__(self):\n",
    "        return \"Point object is at: (\"+str(self.x)+\", \"+str(self.y)+\")\"  \n",
    "    def __sub__(self,other):\n",
    "        x = self.x - other.x\n",
    "        y = self.y - other.y\n",
    "        return Point(x,y)\n",
    "\n",
    "p1 = Point(2,3)\n",
    "p2 = Point(-1,2)\n",
    "print(p1 - p2)"
   ]
  },
  {
   "cell_type": "markdown",
   "metadata": {},
   "source": [
    "Script di atas kita menggunakan operator overloading __ sub __ dan __ str__ . Kita membuat dua buah object yang dialamatkan di class Point(). Lalu kita ingin melakukan pengurangan antara kedua object tersebut. Hal itu dapat dilakukan dengan cara membuat method __ sub __ (self,other) di dalam class tersebut.\n",
    "<br><br>\n",
    "\n",
    "Mari kita beranggapan bahwa p1 adalah 2 sedangkan p2 adalah -1. Apabila kita ingin mengurangi p1 dengan p2 yang berarti p1 – p2 = 2 – (-1). Kita menuliskannya dengan print(p1 – p2). Maka, self.x ialah p1 sedangkan other.x adalah p2 yang dimana menghasilkan output 3. Apabila kita ingin membaliknya p2 – p1 = -1 – 2 .Kita hanya menuliskannya dengan print( p2 – p1). Maka, self.x ialah p2 sedangkan other.x ialah p1.\n",
    "<br><br>\n",
    "__ str __ digunakan untuk mengedit output sesuai yang diinginkan. Setelah mengatur operasi pengurangan kita menggunakan return point(x,y) yang akan dikembalikan ke proses awal awal dan dilanjutkan ke method __ str __ .\n"
   ]
  }
 ],
 "metadata": {
  "kernelspec": {
   "display_name": "Python 3",
   "language": "python",
   "name": "python3"
  },
  "language_info": {
   "codemirror_mode": {
    "name": "ipython",
    "version": 3
   },
   "file_extension": ".py",
   "mimetype": "text/x-python",
   "name": "python",
   "nbconvert_exporter": "python",
   "pygments_lexer": "ipython3",
   "version": "3.7.1"
  }
 },
 "nbformat": 4,
 "nbformat_minor": 2
}
