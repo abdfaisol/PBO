{
 "cells": [
  {
   "cell_type": "markdown",
   "metadata": {},
   "source": [
    "#### Nama : Abdullah Faisol\n",
    "#### NIM : 180441100055\n",
    "#### Matkul : PBO - A"
   ]
  },
  {
   "cell_type": "markdown",
   "metadata": {},
   "source": [
    "<h1 style=\"font-family: sans-serif; text-align: center\">CLASS VS OBJECT</h1>"
   ]
  },
  {
   "cell_type": "markdown",
   "metadata": {},
   "source": [
    "Didalam python terdapat objek dan kelas. Class adalah sebuah kerangka yang di dalamnya terdapat properti atau atribute dan method atau metode untuk membentuk objek. Method adalah cara atau aksi seperti pertambahan, pengurangan, pembagian, dll. Sedangkan Properti adalah sesuatu yang dimiliki seseorang atau object. Sebagai contoh:"
   ]
  },
  {
   "cell_type": "markdown",
   "metadata": {},
   "source": [
    "Jadi, Class hanyalah sebuah kerangka atau sebuah kategori sedangkan object adalah benda yang didalamnya memiliki properti. Contoh: <br>\n",
    "Kelas:Laptop <br>\n",
    "Object: Asus <br>\n",
    "Properti: Ram, Processor, dll."
   ]
  },
  {
   "cell_type": "markdown",
   "metadata": {},
   "source": [
    "Contoh lainnya. <br>\n",
    "Kelas : Makhluk Hidup <br>\n",
    "Objeck : Manusia <br>\n",
    "Properti : Kaki, tangan, kepala, dan badan.<br>\n",
    "Method : Berjalan, Bernafas, Melihat"
   ]
  },
  {
   "cell_type": "markdown",
   "metadata": {},
   "source": [
    "<h2>Perbedaan Class dan Objek</h2>"
   ]
  },
  {
   "cell_type": "markdown",
   "metadata": {},
   "source": [
    "<table border=\"1\">\n",
    "\t\t<tr>\n",
    "\t\t\t<td style=\"text-align: center\">Class</td>\n",
    "\t\t\t<td style=\"text-align: center\">Object</td>\n",
    "\t\t</tr>\n",
    "\t\t<tr>\n",
    "\t\t\t<td s><p>Objek merupakan segala sesuatu yang dapat dibedakan satu sama lainnya. Objek tidak harus berbentuk fisik seperti konsep atau kejadian. Di OOP objek akan menjadi bentuk logis. Suatu entitas yang mampu menyimpan informasi (<i>Status</i>) dan operasi (<i>Action</i>) yang dapat diterapkan. </p></td>\n",
    "\t\t\t<td ><p>Kelas merupakan suatu konsep yang lebih tinggi dari objek yang dihasilkan dari proses generalisasi objek - objek yang memiliki beberara ciri yang sama. Dalam OOP, kelas merupakan suaut hasil pemofelan fakta - fakta dari suatu aplikasi yand diprogram.</p></td>\n",
    "\t\t</tr>\n",
    "        <tr>\n",
    "\t\t\t<td><p>Objek merupakan hasil instansiasi dari kelas</p></td>\n",
    "\t\t\t<td ><p>Kelas merupakan blueprint dari objek dan kelas dapat membuat banyak objek</p></td>\n",
    "\t\t</tr>\n",
    "        <tr>\n",
    "\t\t\t<td><p>Objek merupakan perwujudan dari sebuah kelas</p></td>\n",
    "\t\t\t<td ><p>Kelas merupakan rancangan atau design</p></td>\n",
    "\t\t</tr>\n",
    "        <tr>\n",
    "\t\t\t<td><p>Kelas bersifat Abstract</p></td>\n",
    "\t\t\t<td ><p>Kelas bersifat konkrit</p></td>\n",
    "\t\t</tr>\n",
    "\t</table>"
   ]
  },
  {
   "attachments": {},
   "cell_type": "markdown",
   "metadata": {},
   "source": [
    "<img src=\"https://i.imgur.com/MzmPmdM.png\" alt=\"DOG\" style=\"max-height: 70%; max-width: 70%;\"> <br>\n",
    "<p style=\"text-align: center\">Gambar 1: Class DOG"
   ]
  },
  {
   "cell_type": "markdown",
   "metadata": {},
   "source": [
    "## Implementasi"
   ]
  },
  {
   "cell_type": "markdown",
   "metadata": {},
   "source": [
    "Untuk membuat sebuah class di dalam Python. Hal yang pertama kali kita buat ialah <span style=\"background-color:gray; color: white; padding: 5px 10px; border-radius: 10px\">class <i>NamaClass</i>:</span>"
   ]
  },
  {
   "cell_type": "markdown",
   "metadata": {},
   "source": [
    "<span style=\"background-color:mediumseagreen; color: white; padding: 5px 10px; border-radius: 10px\">def __ init __ (self,<i>atribut</i>)</span> adalah metode konstruktor, yaitu metode khusus yang digunakan di Python untuk menginisialisasi pembuatan objek dari kelas tersebut.Setiap method harus memiliki parameter self yang artinya method tersebut memiliki dan terdaftar ke class tersebut untuk membedakan dari method atau fungsi yang ada di luar class. Contoh:"
   ]
  },
  {
   "cell_type": "code",
   "execution_count": 1,
   "metadata": {},
   "outputs": [],
   "source": [
    "class pegawai:\n",
    "    def __init__(self,nama,nip):\n",
    "        self.nama = nama\n",
    "        self.nip = nip"
   ]
  },
  {
   "cell_type": "markdown",
   "metadata": {},
   "source": [
    "Keterangan: <br> <br>\n",
    "<span style=\"background-color:gray; color: white; padding: 5px 10px; border-radius: 10px\">class <i>pegawai</i>:</span> Membuat kelas yang bernama pegawai <br><br>\n",
    "<span style=\"background-color:mediumseagreen; color: white; padding: 5px 10px; border-radius: 10px\">def __ init __ (self,<i> nama, nip</i> )</span> Didalam kelas pegawai terdapat properti berupa nama dan nip.\n"
   ]
  },
  {
   "cell_type": "markdown",
   "metadata": {},
   "source": [
    "Kemudian, membuat method cetak untuk menampilkan nama dan nip."
   ]
  },
  {
   "cell_type": "code",
   "execution_count": 2,
   "metadata": {},
   "outputs": [
    {
     "name": "stdout",
     "output_type": "stream",
     "text": [
      "Abdullah Faisol\n",
      "180441100055\n"
     ]
    }
   ],
   "source": [
    "class pegawai:\n",
    "    def __init__(self,nama,nip):\n",
    "        self.nama = nama\n",
    "        self.nip = nip\n",
    "    def cetak(self):\n",
    "        print(self.nama)\n",
    "        print(self.nip)\n",
    "        \n",
    "#Membuat objek\n",
    "orang = pegawai(\"Abdullah Faisol\", 180441100055)\n",
    "\n",
    "#Memanggil method cetak milik pegawai\n",
    "orang.cetak()"
   ]
  },
  {
   "cell_type": "markdown",
   "metadata": {},
   "source": [
    "Menggunakan Library datetime untuk mengetahui waktu hari ini. __from__ datetime __import__ datetime"
   ]
  },
  {
   "cell_type": "code",
   "execution_count": 3,
   "metadata": {},
   "outputs": [
    {
     "name": "stdout",
     "output_type": "stream",
     "text": [
      "Andi ,  Admin  dan  150000 , 19\n"
     ]
    }
   ],
   "source": [
    "class pegawai:\n",
    "    def __init__(self,nama,jabatan,gaji,th):\n",
    "        self.nama = nama\n",
    "        self.jabatan = jabatan\n",
    "        self.gaji = gaji\n",
    "        \n",
    "        from datetime import datetime\n",
    "        sekarang = datetime.now() #Mengetahui data waktu saat ini(tahun,bulan,tgl,jam,menit,detik)\n",
    "        tahun = sekarang.year #Membuat variabel tahun yang berisi data tahun saat ini.\n",
    "        self.umur = tahun - th #Method cara mengetahui umur sesorang dari tahun saat ini dikurangi dengan tahun lahir.\n",
    "        \n",
    "        #Menampilkan nama,jabatan,gaji,dan umur saat ini\n",
    "    def tampilkan(self):\n",
    "        print(self.nama, \", \",self.jabatan,\" dan \",self.gaji*30,\",\",self.umur) \n",
    "        #Mengetahui gaji per bulan dengan cara self.gaji dikali 30\n",
    "        #Output Nama, Jabatan dan Gaji Selama  1 bulan, umur saat ini \n",
    "\n",
    "#Membuat objek p1 yang berisi data nama, jabatan, gaji, dan tahun lahir        \n",
    "p1 = pegawai(\"Andi\", \"Admin\", 5000, 2000) \n",
    "\n",
    "#Menampilkan method tampilkan milik class pegawai\n",
    "p1.tampilkan()"
   ]
  },
  {
   "cell_type": "markdown",
   "metadata": {},
   "source": [
    "Memadukan if bersarang di dalam class. Membuat class apabila mahasiswa ipk melebihi 3 maka mahasiswa tersebut berhak mendapatkan bidikmisi dan sebaliknya jika ipk kurang dari 3 maka mahasiswa tersebut tidak berhak mendapatkan bidikmisi."
   ]
  },
  {
   "cell_type": "code",
   "execution_count": 4,
   "metadata": {},
   "outputs": [
    {
     "name": "stdout",
     "output_type": "stream",
     "text": [
      "180441100055   Abdullah Fasiol  IPK =  2\n",
      "Tidak\n"
     ]
    }
   ],
   "source": [
    "class mahasiswa:\n",
    "    def __init__(self,a,b,c):\n",
    "        self.nama = a\n",
    "        self.nim = b\n",
    "        self.ipk = int(c) #Hanya memilih angka didepan sebagai parameter. Ex: 2.9 maka 2, 3.04 maka 3\n",
    "        \n",
    "    def tampilkan(self):\n",
    "        #Menampilkan nim, nama, dan ipk mahasiswa\n",
    "        print(self.nim,\" \",self.nama,\" IPK = \",self.ipk)\n",
    "        \n",
    "        #Kondisi\n",
    "        if self.ipk >=3:\n",
    "            print(\"bidik misi\")\n",
    "        else:\n",
    "            print(\"Tidak\")\n",
    "            \n",
    "#Membuat objek data\n",
    "data = mahasiswa(\"Abdullah Fasiol\", 180441100055, 2.9)\n",
    "\n",
    "#Menampilkan method tampilkan\n",
    "data.tampilkan()"
   ]
  },
  {
   "cell_type": "markdown",
   "metadata": {},
   "source": [
    "Membuat class bernama kubus dengan propertinya panjang sisi. Kemudian menampilkan panjang sisi dan luas."
   ]
  },
  {
   "cell_type": "code",
   "execution_count": 5,
   "metadata": {},
   "outputs": [
    {
     "name": "stdout",
     "output_type": "stream",
     "text": [
      "4\n",
      "Luas =  16\n"
     ]
    }
   ],
   "source": [
    "class kubus:\n",
    "    def __init__(self,s):\n",
    "        self.sisi=s\n",
    "    def luas(self): #Method luas yang akan menampilkan panjang sisi dan luas\n",
    "        print(self.sisi)\n",
    "        print(\"Luas = \",self.sisi**2)\n",
    "\n",
    "        \n",
    "#Membuat objek kubus1 dengan properti panjang sisi adalah 4\n",
    "kubus1 = kubus(4)\n",
    "#Menampilkan panjang sisi dan luass\n",
    "kubus1.luas()"
   ]
  },
  {
   "cell_type": "code",
   "execution_count": 6,
   "metadata": {},
   "outputs": [
    {
     "name": "stdout",
     "output_type": "stream",
     "text": [
      "4\n",
      "Luas =  16\n",
      "Volume =  64\n",
      "Luas permukaan =  96\n"
     ]
    }
   ],
   "source": [
    "class kubus:\n",
    "    def __init__(self,s):\n",
    "        self.sisi=s\n",
    "    def luas(self):\n",
    "        print(self.sisi)\n",
    "        print(\"Luas = \",self.sisi**2)\n",
    "        \n",
    "    #Membuat method volume dan luas permukaan yang akan menampilkan hasil perhitungan volume dan luas permukaan kubus\n",
    "    def volume(self):\n",
    "        print(\"Volume = \",self.sisi**3)\n",
    "    def luaspermukaan(self):\n",
    "        print(\"Luas permukaan = \", 6*(self.sisi**2))\n",
    "              \n",
    "kubus1 = kubus(4)\n",
    "kubus1.luas()\n",
    "\n",
    "#Memanggil method untuk menampilkan volume dan luas permukaan kubus.\n",
    "kubus1.volume()\n",
    "kubus1.luaspermukaan()"
   ]
  }
 ],
 "metadata": {
  "kernelspec": {
   "display_name": "Python 3",
   "language": "python",
   "name": "python3"
  },
  "language_info": {
   "codemirror_mode": {
    "name": "ipython",
    "version": 3
   },
   "file_extension": ".py",
   "mimetype": "text/x-python",
   "name": "python",
   "nbconvert_exporter": "python",
   "pygments_lexer": "ipython3",
   "version": "3.7.1"
  }
 },
 "nbformat": 4,
 "nbformat_minor": 2
}
