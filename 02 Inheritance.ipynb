{
 "cells": [
  {
   "cell_type": "markdown",
   "metadata": {},
   "source": [
    "#### Nama : Abdullah Faisol\n",
    "#### NIM : 180441100055\n",
    "#### Matkul : PBO - A"
   ]
  },
  {
   "cell_type": "markdown",
   "metadata": {},
   "source": [
    "<h1 style=\"font-family: sans-serif; text-align: center\">INHERITANCE</h1>"
   ]
  },
  {
   "cell_type": "markdown",
   "metadata": {},
   "source": [
    "Inheritance atau pewarisan adalah ketika sebuah kelas yang dibangun menggunakan kode dari kelas lain. Jika berpikir tentang pewarisan dalam biologi, Kita dapat berpikir seorang anak yang mewarisi sifat - sifat tertentu dari orang tuanya. Artinya seorang anak dapat mewarisi tinggi atau warna mata orang tua. Anak juga dapat berbagi nama belakang yang sama dengan orang tua."
   ]
  },
  {
   "cell_type": "markdown",
   "metadata": {},
   "source": [
    "Sebuah kelas bisa mewarisi fungsi ke kelas lain. Jika objek tersebut dibuat menggunakan kelas turunan dari sebuah superclass, Objek akan berisi method dari kedua kelas dan superclass. Kelas yang mewarisi fungsi atau method disebut dengan <b>Parent Class</b> atau <b>Base Class</b> dan Kelas yang menerima warisan berupa fungsi atau method dari parent class disebut dengan <b>Sub Class</b> atau <b>Child Class</b>."
   ]
  },
  {
   "attachments": {},
   "cell_type": "markdown",
   "metadata": {},
   "source": [
    "<img src=\"https://i.imgur.com/XEDk690h.png\" alt=\"ilustrasi Sub and Parent Class\" style=\"max-height: 70%; max-width: 70%;\"> <br>\n",
    "<p style=\"text-align: center\">Gambar 1: Ilustrasi Sub Class dan Parent Class</p>"
   ]
  },
  {
   "cell_type": "markdown",
   "metadata": {},
   "source": [
    "Child class satu dengan yang lainnya hanya memiliki kesamaan sifat yang diturunkan parent class. Child class tidak dapat mewarisi sifat ke child class lainnya. seperti Kakak yang memiliki kejeniusan tidak dapat menularkan kejeniusannya kepada adiknya."
   ]
  },
  {
   "attachments": {},
   "cell_type": "markdown",
   "metadata": {},
   "source": [
    "<img src=\"https://i.imgur.com/RukbI8nh.png\" alt=\"ilustrasi Parrent skill\" style=\"max-height: 70%; max-width: 70%;\"> <br>\n",
    "<p style=\"text-align: center\">Gambar 2: Ilustrasi Overriding</p>"
   ]
  },
  {
   "cell_type": "code",
   "execution_count": 3,
   "metadata": {},
   "outputs": [
    {
     "name": "stdout",
     "output_type": "stream",
     "text": [
      "Name =  Brian\n",
      "Name =  Diana\n",
      "Programming python\n"
     ]
    }
   ],
   "source": [
    "class user:\n",
    "    def __init__(self,name):\n",
    "        self.name = name\n",
    "    def printName(self):\n",
    "        print(\"Name = \",self.name)\n",
    "class programmer(user):\n",
    "    def __init__(self,name):\n",
    "        self.name = name\n",
    "    def dopython(self):\n",
    "        print(\"Programming python\")\n",
    "\n",
    "#Membuat objek brian dengan menggunakan class user\n",
    "brian = user(\"Brian\")\n",
    "#Memanggil method printName dari Class user\n",
    "brian.printName()\n",
    "#Membuat objek diana menggunakan class programmer\n",
    "diana = programmer(\"Diana\")\n",
    "#Memanggil method printName yang dimiliki parent class user dari class programmer\n",
    "diana.printName()\n",
    "#Memanggil method dopython yand dimiliki class programmer\n",
    "diana.dopython()"
   ]
  },
  {
   "cell_type": "markdown",
   "metadata": {},
   "source": [
    "Keterangan: <br> <br>\n",
    "<span style=\"background-color:gray; color: white; padding: 5px 10px; border-radius: 10px\">class <i>User</i></span> adalah Parent Class yang akan digunakan oleh kelas programmer. Class user memiliki properti nama. <br> <br>\n",
    "<span style=\"background-color:mediumseagreen; color: white; padding: 5px 10px; border-radius: 10px\">def printName(self)</span> adalah method untuk menampilkan nama <br><br>\n",
    "<span style=\"background-color:gray; color: white; padding: 5px 10px; border-radius: 10px\">class <i>programmer</i></span> adalah sub class atau child class dari class programmer dan memiliki properti yang sama dengan class user. <br><br>\n",
    "<span style=\"background-color:mediumseagreen; color: white; padding: 5px 10px; border-radius: 10px\">def dopython(self)</span> adalah method untuk menampilkan sebuah pesan \"Programming Python\" <br>"
   ]
  },
  {
   "cell_type": "code",
   "execution_count": 4,
   "metadata": {},
   "outputs": [
    {
     "name": "stdout",
     "output_type": "stream",
     "text": [
      "Terry  Fish\n",
      "bone\n",
      "False\n",
      "the fish is swimming.\n",
      "The fish is simming backwards.\n",
      "Casey  Fish\n",
      "the fish is swimming.\n",
      "The clownfish is coexisting with sead anemone\n",
      "Nah inilah yang terjadi jika terry menggunakan method clownfish.\n"
     ]
    },
    {
     "ename": "AttributeError",
     "evalue": "'trout' object has no attribute 'live_with_anemone'",
     "output_type": "error",
     "traceback": [
      "\u001b[1;31m---------------------------------------------------------------------------\u001b[0m",
      "\u001b[1;31mAttributeError\u001b[0m                            Traceback (most recent call last)",
      "\u001b[1;32m<ipython-input-4-14151efa3e4c>\u001b[0m in \u001b[0;36m<module>\u001b[1;34m\u001b[0m\n\u001b[0;32m     35\u001b[0m \u001b[0mcasey\u001b[0m\u001b[1;33m.\u001b[0m\u001b[0mlive_with_anemone\u001b[0m\u001b[1;33m(\u001b[0m\u001b[1;33m)\u001b[0m\u001b[1;33m\u001b[0m\u001b[1;33m\u001b[0m\u001b[0m\n\u001b[0;32m     36\u001b[0m \u001b[0mprint\u001b[0m\u001b[1;33m(\u001b[0m\u001b[1;34m\"Nah inilah yang terjadi jika terry menggunakan method clownfish.\"\u001b[0m\u001b[1;33m)\u001b[0m\u001b[1;33m\u001b[0m\u001b[1;33m\u001b[0m\u001b[0m\n\u001b[1;32m---> 37\u001b[1;33m \u001b[0mterry\u001b[0m\u001b[1;33m.\u001b[0m\u001b[0mlive_with_anemone\u001b[0m\u001b[1;33m(\u001b[0m\u001b[1;33m)\u001b[0m\u001b[1;33m\u001b[0m\u001b[1;33m\u001b[0m\u001b[0m\n\u001b[0m\u001b[0;32m     38\u001b[0m \u001b[1;33m\u001b[0m\u001b[0m\n\u001b[0;32m     39\u001b[0m \u001b[0masian\u001b[0m \u001b[1;33m=\u001b[0m  \u001b[0mshark\u001b[0m\u001b[1;33m(\u001b[0m\u001b[1;34m\"Asian\"\u001b[0m\u001b[1;33m)\u001b[0m\u001b[1;33m\u001b[0m\u001b[1;33m\u001b[0m\u001b[0m\n",
      "\u001b[1;31mAttributeError\u001b[0m: 'trout' object has no attribute 'live_with_anemone'"
     ]
    }
   ],
   "source": [
    "class fish:\n",
    "    def __init__ (self, first_name, last_name = \"Fish\", skeleton = \"bone\", eyelids = False):\n",
    "        self.first_name = first_name\n",
    "        self.last_name = last_name\n",
    "        self.skeleton = skeleton\n",
    "        self.eyelids = eyelids\n",
    "    def swim(self):\n",
    "        print(\"the fish is swimming.\")\n",
    "    def swim_backwards(self):\n",
    "        print(\"The fish is simming backwards.\")\n",
    "        \n",
    "        \n",
    "class trout(fish):\n",
    "    pass\n",
    "\n",
    "\n",
    "class clownfish(fish):\n",
    "    def live_with_anemone(self):\n",
    "        print(\"The clownfish is coexisting with sead anemone\")\n",
    "\n",
    "class shark(fish):\n",
    "    def __init__ (self, first_name, last_name = \"Shark\", skeleton = \"cartilage\", eyelids = True):\n",
    "        self.first_name = first_name\n",
    "        self.last_name = last_name\n",
    "        self.skeleton = skeleton\n",
    "        self.eyelids = eyelids\n",
    "    def swim_backwards(self):\n",
    "        print(\"The shark cannot swim backwards, but can sink backwards\")\n",
    "\n",
    "terry =  trout(\"Terry\")\n",
    "print(terry.first_name,\"\",terry.last_name)\n",
    "print(terry.skeleton)\n",
    "print(terry.eyelids)\n",
    "terry.swim()\n",
    "terry.swim_backwards()\n",
    "print(\"Nah inilah yang terjadi jika terry menggunakan method clownfish.\")\n",
    "terry.live_with_anemone()\n",
    "\n",
    "casey = clownfish(\"Casey\")\n",
    "print(casey.first_name,\"\",casey.last_name)\n",
    "casey.swim()\n",
    "casey.live_with_anemone()\n",
    "\n",
    "\n",
    "asian =  shark(\"Asian\")\n",
    "print(asian.first_name,\"\",asian.last_name)\n",
    "print(asian.skeleton)\n",
    "print(asian.eyelids)\n",
    "asian.swim()\n",
    "asian.swim_backwards()"
   ]
  },
  {
   "cell_type": "markdown",
   "metadata": {},
   "source": [
    "Error terjadi karena objek __terry__ yang memiliki akses class trout tidak mempunyai method live_with_anemo. Karena class trout isinya sama dengan induk kelas fish yang hanya memiliki method swim(self) dan swim_backwards(self). Sedangkan yang mempunyai method live_with_anemo hanya di class clownfish.\n"
   ]
  },
  {
   "cell_type": "markdown",
   "metadata": {},
   "source": [
    "### Tipe - tipe inheritance"
   ]
  },
  {
   "cell_type": "markdown",
   "metadata": {},
   "source": [
    "Inheritance memiliki 4 macam tipe yaitu: Default, Overriding, Super, dan Multiple Inheritance. <br>"
   ]
  },
  {
   "cell_type": "markdown",
   "metadata": {},
   "source": [
    "#### Default"
   ]
  },
  {
   "cell_type": "markdown",
   "metadata": {},
   "source": [
    "Default adalah ketika sebuah anak class memiliki properti yang sama dengan induk class."
   ]
  },
  {
   "cell_type": "code",
   "execution_count": 5,
   "metadata": {},
   "outputs": [
    {
     "name": "stdout",
     "output_type": "stream",
     "text": [
      "Terry  Fish\n",
      "bone\n",
      "False\n",
      "the fish is swimming.\n",
      "The fish is simming backwards.\n"
     ]
    }
   ],
   "source": [
    "class fish:\n",
    "    def __init__ (self, first_name, last_name = \"Fish\", skeleton = \"bone\", eyelids = False):\n",
    "        self.first_name = first_name\n",
    "        self.last_name = last_name\n",
    "        self.skeleton = skeleton\n",
    "        self.eyelids = eyelids\n",
    "    def swim(self):\n",
    "        print(\"the fish is swimming.\")\n",
    "    def swim_backwards(self):\n",
    "        print(\"The fish is simming backwards.\")\n",
    "        \n",
    "        \n",
    "class trout(fish):\n",
    "    pass\n",
    "\n",
    "terry =  trout(\"Terry\")\n",
    "print(terry.first_name,\"\",terry.last_name)\n",
    "print(terry.skeleton)\n",
    "print(terry.eyelids)\n",
    "terry.swim()\n",
    "terry.swim_backwards()"
   ]
  },
  {
   "cell_type": "markdown",
   "metadata": {},
   "source": [
    "Cukup dengan menggunakan <span style =\"color:green\">__pass__</span> didalam class trout. Maka seluruh properti dan method di dalam class trout akan sama dengan class fish."
   ]
  },
  {
   "cell_type": "markdown",
   "metadata": {},
   "source": [
    "#### Overriding"
   ]
  },
  {
   "cell_type": "markdown",
   "metadata": {},
   "source": [
    "Overriding adalah kondisi ketika class anak yang memiliki method atau propertinya sama dengan class induk namun, content atau isinya diubah. Jadi, class anak dapat memodifikasi nilai property / method dari kelas induk."
   ]
  },
  {
   "cell_type": "code",
   "execution_count": 1,
   "metadata": {},
   "outputs": [
    {
     "name": "stdout",
     "output_type": "stream",
     "text": [
      "Asian  Shark\n",
      "cartilage\n",
      "True\n",
      "the fish is swimming.\n",
      "The shark cannot swim backwards, but can sink backwards\n"
     ]
    }
   ],
   "source": [
    "class fish:\n",
    "    def __init__ (self, first_name, last_name = \"Fish\", skeleton = \"bone\", eyelids = False):\n",
    "        self.first_name = first_name\n",
    "        self.last_name = last_name\n",
    "        self.skeleton = skeleton\n",
    "        self.eyelids = eyelids\n",
    "    def swim(self):\n",
    "        print(\"the fish is swimming.\")\n",
    "    def swim_backwards(self):\n",
    "        print(\"The fish is simming backwards.\")\n",
    "\n",
    "class shark(fish):\n",
    "    \n",
    "    #Peran overriding dalam memodifikasi nilai properti\n",
    "    #Class anak shark ingin mengubah nilai properti last_name, skeleton, dan eyelids\n",
    "    def __init__ (self, first_name, last_name = \"Shark\", skeleton = \"cartilage\", eyelids = True):\n",
    "        self.first_name = first_name\n",
    "        self.last_name = last_name\n",
    "        self.skeleton = skeleton\n",
    "        self.eyelids = eyelids\n",
    "        \n",
    "    #Class anak shark memodifikasi method swim_backwards yang semula \"The fish is simming backwards\" menjadi \n",
    "    # \"The shark cannot swim backwards, but can sink backwards\"\n",
    "    def swim_backwards(self):\n",
    "        print(\"The shark cannot swim backwards, but can sink backwards\")\n",
    "\n",
    "#Objek asian\n",
    "asian =  shark(\"Asian\")\n",
    "\n",
    "#Menampilkan first_name dan last_name class shark.\n",
    "print(asian.first_name,\"\",asian.last_name)\n",
    "print(asian.skeleton)\n",
    "print(asian.eyelids)\n",
    "\n",
    "#Nilai method tetap seperti class induk yaitu \"the fish is swimming.\"\n",
    "asian.swim()\n",
    "\n",
    "#Peran Overriding memodifikasi method dari kelas induk\n",
    "asian.swim_backwards()"
   ]
  },
  {
   "cell_type": "markdown",
   "metadata": {},
   "source": [
    "#### Super"
   ]
  },
  {
   "cell_type": "markdown",
   "metadata": {},
   "source": [
    "Metode super digunakan ketika kita ingin menambahkan properti sebuah class anak. Fungsi super() sama halnya dengan __ init __ , fungsi tersebut untuk mendeteksi properti dari class induk."
   ]
  },
  {
   "cell_type": "code",
   "execution_count": 6,
   "metadata": {},
   "outputs": [
    {
     "name": "stdout",
     "output_type": "stream",
     "text": [
      "Shark\n",
      "Terry  fish\n",
      "no bone\n",
      "True\n",
      "Terry\n",
      "the fish is swimming.\n"
     ]
    }
   ],
   "source": [
    "class fish:\n",
    "    def __init__ (self, first_name, last_name = \"Fish\", skeleton = \"bone\", eyelids = False):\n",
    "        self.first_name = first_name\n",
    "        self.last_name = last_name\n",
    "        self.skeleton = skeleton\n",
    "        self.eyelids = eyelids\n",
    "    def swim(self):\n",
    "        print(\"the fish is swimming.\")\n",
    "    def swim_backwards(self):\n",
    "        print(\"The fish is simming backwards.\")\n",
    "class trout(fish):\n",
    "    # Class anak trout menambahkan properti water di dalam class miliknya.\n",
    "    def __init__(self,water, first_name, last_name, skeleton, eyelids):\n",
    "    #Properti first_name,last_name,skeleton, dan eyelids adalah properti milik class induk.\n",
    "        self.water = water\n",
    "        fish.__init__(self, first_name, last_name, skeleton, eyelids)\n",
    "    #Untuk mengisialisasi properti kelas induk. Kita harus menuliskan properti kelas induk\n",
    "    #NamaKelasInduk.__init__(self,property) atau super().__init__(self,properti)\n",
    "    \n",
    "terry =  trout(\"Terry\",\"Shark\",\"fish\",\"no bone\",\"True\")\n",
    "print(terry.first_name)\n",
    "\n",
    "terry.first_name = \"Terry\"\n",
    "print(terry.first_name,\"\",terry.last_name)\n",
    "print(terry.skeleton)\n",
    "print(terry.eyelids)\n",
    "\n",
    "#Menampilkan properti self.water dengan cara objek.water()\n",
    "print(terry.water)\n",
    "terry.swim()"
   ]
  },
  {
   "cell_type": "markdown",
   "metadata": {},
   "source": [
    "#### Multiple"
   ]
  },
  {
   "cell_type": "markdown",
   "metadata": {},
   "source": [
    "Multiple adalah sebuah class anak memiliki banyak induk class. Artinya sebuah class mewarisi method dan properti dari dua class atau lebih."
   ]
  },
  {
   "cell_type": "code",
   "execution_count": 8,
   "metadata": {},
   "outputs": [
    {
     "name": "stdout",
     "output_type": "stream",
     "text": [
      "Coral lives in a community\n",
      "The anemone is protexting the clownfish\n"
     ]
    }
   ],
   "source": [
    "class coral:\n",
    "    def community(self):\n",
    "        print(\"Coral lives in a community\")\n",
    "class anemone:\n",
    "    def protect_clownfish(self):\n",
    "        print(\"The anemone is protexting the clownfish\")\n",
    "class coralreef(coral,anemone):\n",
    "    pass\n",
    "great_barrier = coralreef()\n",
    "great_barrier.community()\n",
    "great_barrier.protect_clownfish()"
   ]
  },
  {
   "cell_type": "markdown",
   "metadata": {},
   "source": [
    "Terlihat class anak coralreef memiliki class induk coral dan anemone. Hal tersebut mengakibatkan class coralreef dapat mengakses method dari coral dan anemone."
   ]
  }
 ],
 "metadata": {
  "kernelspec": {
   "display_name": "Python 3",
   "language": "python",
   "name": "python3"
  },
  "language_info": {
   "codemirror_mode": {
    "name": "ipython",
    "version": 3
   },
   "file_extension": ".py",
   "mimetype": "text/x-python",
   "name": "python",
   "nbconvert_exporter": "python",
   "pygments_lexer": "ipython3",
   "version": "3.7.1"
  }
 },
 "nbformat": 4,
 "nbformat_minor": 2
}
